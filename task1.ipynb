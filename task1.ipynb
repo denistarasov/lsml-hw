{
 "cells": [
  {
   "cell_type": "markdown",
   "metadata": {
    "deletable": true,
    "editable": true
   },
   "source": [
    "# Check for common deployment errors first"
   ]
  },
  {
   "cell_type": "markdown",
   "metadata": {
    "deletable": true,
    "editable": true
   },
   "source": [
    "This should show three nodes with 500 - 1000 GB each (951 in this case). Ambari -> 'Start All' should be done first."
   ]
  },
  {
   "cell_type": "code",
   "execution_count": 1,
   "metadata": {
    "collapsed": false,
    "deletable": true,
    "editable": true
   },
   "outputs": [
    {
     "name": "stdout",
     "output_type": "stream",
     "text": [
      "DFS Remaining: 3055468800512 (2.78 TB)\n",
      "DFS Remaining: 1018418638336 (948.48 GB)\n",
      "DFS Remaining%: 94.82%\n",
      "DFS Remaining: 1018561064448 (948.61 GB)\n",
      "DFS Remaining%: 94.84%\n",
      "DFS Remaining: 1018489097728 (948.54 GB)\n",
      "DFS Remaining%: 94.83%\n"
     ]
    }
   ],
   "source": [
    "! hdfs dfsadmin -report | grep \"DFS Remaining\""
   ]
  },
  {
   "cell_type": "markdown",
   "metadata": {
    "deletable": true,
    "editable": true
   },
   "source": [
    "# Create Spark Context"
   ]
  },
  {
   "cell_type": "code",
   "execution_count": 1,
   "metadata": {
    "collapsed": false,
    "deletable": true,
    "editable": true
   },
   "outputs": [],
   "source": [
    "import spark_setup\n",
    "spark_setup.setup_pyspark_env()\n",
    "import spark_utils"
   ]
  },
  {
   "cell_type": "code",
   "execution_count": 2,
   "metadata": {
    "collapsed": false,
    "deletable": true,
    "editable": true
   },
   "outputs": [
    {
     "name": "stdout",
     "output_type": "stream",
     "text": [
      "Ambari - http://10.0.1.21:8080\n",
      "All Applications - http://10.0.1.23:8088/cluster\n",
      "CPU times: user 16 ms, sys: 16 ms, total: 32 ms\n",
      "Wall time: 15.7 s\n"
     ]
    }
   ],
   "source": [
    "%%time\n",
    "sc = spark_utils.get_spark_context()"
   ]
  },
  {
   "cell_type": "code",
   "execution_count": 3,
   "metadata": {
    "collapsed": true,
    "deletable": true,
    "editable": true
   },
   "outputs": [],
   "source": [
    "import pandas as pd\n",
    "from pyspark.sql import SparkSession\n",
    "\n",
    "ss = SparkSession(sc)"
   ]
  },
  {
   "cell_type": "code",
   "execution_count": 4,
   "metadata": {
    "collapsed": true,
    "deletable": true,
    "editable": true
   },
   "outputs": [],
   "source": [
    "from hdfs import InsecureClient\n",
    "hdfs_client = InsecureClient(\"http://cluster1:50070\", user='hdfs')"
   ]
  },
  {
   "cell_type": "markdown",
   "metadata": {
    "deletable": true,
    "editable": true
   },
   "source": [
    "# Download task data"
   ]
  },
  {
   "cell_type": "code",
   "execution_count": 10,
   "metadata": {
    "collapsed": true,
    "deletable": true,
    "editable": true
   },
   "outputs": [],
   "source": [
    "# place yours here\n",
    "student_id = 1"
   ]
  },
  {
   "cell_type": "code",
   "execution_count": 13,
   "metadata": {
    "collapsed": false,
    "deletable": true,
    "editable": true
   },
   "outputs": [
    {
     "name": "stdout",
     "output_type": "stream",
     "text": [
      "your region is: eastus\n"
     ]
    }
   ],
   "source": [
    "import json\n",
    "student_region = json.loads(open(\"../azure/regions.json\").read())[\"student{}\".format(student_id)]\n",
    "print \"your region is:\", student_region"
   ]
  },
  {
   "cell_type": "code",
   "execution_count": 16,
   "metadata": {
    "collapsed": false,
    "deletable": true,
    "editable": true
   },
   "outputs": [
    {
     "name": "stdout",
     "output_type": "stream",
     "text": [
      "https://lsml1eastus.blob.core.windows.net/data/task1.zip\n"
     ]
    }
   ],
   "source": [
    "task_data_link = \"https://lsml1{}.blob.core.windows.net/data/task1.zip\".format(student_region)\n",
    "print task_data_link"
   ]
  },
  {
   "cell_type": "code",
   "execution_count": 27,
   "metadata": {
    "collapsed": false,
    "deletable": true,
    "editable": true
   },
   "outputs": [
    {
     "name": "stdout",
     "output_type": "stream",
     "text": [
      "CPU times: user 8 ms, sys: 12 ms, total: 20 ms\n",
      "Wall time: 9min 52s\n"
     ]
    }
   ],
   "source": [
    "%%time\n",
    "# you can see progress in tmux (tab with running jupyter notebook)\n",
    "import os\n",
    "os.system(\"wget {} -O /data/task1.zip\".format(task_data_link))"
   ]
  },
  {
   "cell_type": "code",
   "execution_count": 29,
   "metadata": {
    "collapsed": false,
    "deletable": true,
    "editable": true
   },
   "outputs": [
    {
     "name": "stdout",
     "output_type": "stream",
     "text": [
      "CPU times: user 16 ms, sys: 8 ms, total: 24 ms\n",
      "Wall time: 11min 53s\n"
     ]
    },
    {
     "data": {
      "text/plain": [
       "0"
      ]
     },
     "execution_count": 29,
     "metadata": {},
     "output_type": "execute_result"
    }
   ],
   "source": [
    "%%time\n",
    "# unzip task1.zip (many zip files inside)\n",
    "os.system(\"unzip /data/task1.zip -d /data/\")"
   ]
  },
  {
   "cell_type": "code",
   "execution_count": 31,
   "metadata": {
    "collapsed": false,
    "deletable": true,
    "editable": true
   },
   "outputs": [
    {
     "name": "stdout",
     "output_type": "stream",
     "text": [
      "136M\t/data/clicks_test.csv.zip\r\n",
      "390M\t/data/clicks_train.csv.zip\r\n",
      "33M\t/data/documents_categories.csv.zip\r\n",
      "126M\t/data/documents_entities.csv.zip\r\n",
      "16M\t/data/documents_meta.csv.zip\r\n",
      "121M\t/data/documents_topics.csv.zip\r\n",
      "478M\t/data/events.csv.zip\r\n",
      "30G\t/data/page_views.csv.zip\r\n",
      "149M\t/data/page_views_sample.csv.zip\r\n",
      "2.6M\t/data/promoted_content.csv.zip\r\n",
      "100M\t/data/sample_submission.csv.zip\r\n",
      "32G\t/data/task1.zip\r\n"
     ]
    }
   ],
   "source": [
    "# verify that you're all set\n",
    "! du -sh /data/*.zip"
   ]
  },
  {
   "cell_type": "markdown",
   "metadata": {
    "deletable": true,
    "editable": true
   },
   "source": [
    "# Load data to HDFS"
   ]
  },
  {
   "cell_type": "markdown",
   "metadata": {
    "deletable": true,
    "editable": true
   },
   "source": [
    "https://www.kaggle.com/c/outbrain-click-prediction/data"
   ]
  },
  {
   "cell_type": "code",
   "execution_count": 5,
   "metadata": {
    "collapsed": true,
    "deletable": true,
    "editable": true
   },
   "outputs": [],
   "source": [
    "import time\n",
    "\n",
    "def timeit(method):\n",
    "    def timed(*args, **kw):\n",
    "        ts = time.time()\n",
    "        result = method(*args, **kw)\n",
    "        te = time.time()\n",
    "        print '%r (%r, %r) %2.2f sec' % \\\n",
    "              (method.__name__, args, kw, te-ts)\n",
    "        return result\n",
    "    return timed"
   ]
  },
  {
   "cell_type": "code",
   "execution_count": null,
   "metadata": {
    "collapsed": false,
    "deletable": true,
    "editable": true
   },
   "outputs": [
    {
     "data": {
      "text/plain": [
       "False"
      ]
     },
     "execution_count": 6,
     "metadata": {},
     "output_type": "execute_result"
    }
   ],
   "source": [
    "hdfs_client.delete(\"/task1\", recursive=True)"
   ]
  },
  {
   "cell_type": "code",
   "execution_count": null,
   "metadata": {
    "collapsed": false,
    "deletable": true,
    "editable": true
   },
   "outputs": [
    {
     "name": "stdout",
     "output_type": "stream",
     "text": [
      "\n",
      "'unzip_to_hdfs' (('clicks_test.csv.zip',), {}) 7.98 sec\n",
      "\n",
      "'unzip_to_hdfs' (('clicks_train.csv.zip',), {}) 21.13 sec\n",
      "\n",
      "'unzip_to_hdfs' (('documents_categories.csv.zip',), {}) 3.34 sec\n",
      "\n",
      "'unzip_to_hdfs' (('documents_entities.csv.zip',), {}) 6.14 sec\n",
      "\n",
      "'unzip_to_hdfs' (('documents_meta.csv.zip',), {}) 2.91 sec\n",
      "\n",
      "'unzip_to_hdfs' (('documents_topics.csv.zip',), {}) 6.78 sec\n",
      "\n",
      "'unzip_to_hdfs' (('events.csv.zip',), {}) 23.32 sec\n",
      "\n",
      "'unzip_to_hdfs' (('page_views.csv.zip',), {}) 1358.40 sec\n",
      "\n",
      "'unzip_to_hdfs' (('page_views_sample.csv.zip',), {}) 8.06 sec\n",
      "\n",
      "'unzip_to_hdfs' (('promoted_content.csv.zip',), {}) 2.25 sec\n",
      "\n",
      "'unzip_to_hdfs' (('sample_submission.csv.zip',), {}) 7.14 sec\n",
      "CPU times: user 168 ms, sys: 84 ms, total: 252 ms\n",
      "Wall time: 24min 7s\n"
     ]
    }
   ],
   "source": [
    "%%time\n",
    "import subprocess\n",
    "\n",
    "@timeit\n",
    "def unzip_to_hdfs(fn):\n",
    "    fn_out = fn.replace(\".zip\", \"\")\n",
    "    print subprocess.check_output(\"unzip -p /data/{0} | hadoop fs -put - /task1/{1}\".format(fn, fn_out), shell=True)\n",
    "    \n",
    "fns = [\n",
    "    \"clicks_test.csv.zip\",\n",
    "    \"clicks_train.csv.zip\",\n",
    "    \"documents_categories.csv.zip\",\n",
    "    \"documents_entities.csv.zip\",\n",
    "    \"documents_meta.csv.zip\",\n",
    "    \"documents_topics.csv.zip\",\n",
    "    \"events.csv.zip\",\n",
    "    \"page_views.csv.zip\",\n",
    "    \"page_views_sample.csv.zip\",\n",
    "    \"promoted_content.csv.zip\",\n",
    "    \"sample_submission.csv.zip\"\n",
    "]\n",
    "\n",
    "for fn in fns:\n",
    "    unzip_to_hdfs(fn)"
   ]
  },
  {
   "cell_type": "code",
   "execution_count": 39,
   "metadata": {
    "collapsed": false,
    "deletable": true,
    "editable": true
   },
   "outputs": [
    {
     "name": "stdout",
     "output_type": "stream",
     "text": [
      "483.5 M  /task1/clicks_test.csv\n",
      "1.4 G  /task1/clicks_train.csv\n",
      "112.5 M  /task1/documents_categories.csv\n",
      "309.1 M  /task1/documents_entities.csv\n",
      "85.2 M  /task1/documents_meta.csv\n",
      "323.7 M  /task1/documents_topics.csv\n",
      "1.1 G  /task1/events.csv\n",
      "88.4 G  /task1/page_views.csv\n",
      "433.3 M  /task1/page_views_sample.csv\n",
      "13.2 M  /task1/promoted_content.csv\n",
      "260.5 M  /task1/sample_submission.csv\n"
     ]
    }
   ],
   "source": [
    "! hadoop fs -du -s -h /task1/*.csv"
   ]
  },
  {
   "cell_type": "code",
   "execution_count": null,
   "metadata": {
    "collapsed": true,
    "deletable": true,
    "editable": true
   },
   "outputs": [],
   "source": [
    "# files are written on cluster1 node only, need to balance HDFS on cluster"
   ]
  },
  {
   "cell_type": "code",
   "execution_count": null,
   "metadata": {
    "collapsed": false,
    "deletable": true,
    "editable": true
   },
   "outputs": [
    {
     "name": "stdout",
     "output_type": "stream",
     "text": [
      "Balancer bandwidth is set to 1000000000\r\n"
     ]
    }
   ],
   "source": [
    "! hdfs dfsadmin -setBalancerBandwidth 1000000000"
   ]
  },
  {
   "cell_type": "code",
   "execution_count": null,
   "metadata": {
    "collapsed": false,
    "deletable": true,
    "editable": true,
    "scrolled": true
   },
   "outputs": [
    {
     "name": "stdout",
     "output_type": "stream",
     "text": [
      "CPU times: user 6.48 s, sys: 2.22 s, total: 8.7 s\n",
      "Wall time: 6min 21s\n"
     ]
    }
   ],
   "source": [
    "%%time\n",
    "! hdfs balancer -threshold 5 > balancer.log 2>&1"
   ]
  },
  {
   "cell_type": "markdown",
   "metadata": {
    "deletable": true,
    "editable": true
   },
   "source": [
    "# Read example"
   ]
  },
  {
   "cell_type": "code",
   "execution_count": null,
   "metadata": {
    "collapsed": true,
    "deletable": true,
    "editable": true
   },
   "outputs": [],
   "source": [
    "pvdf = ss.read.csv(\"/task1/page_views.csv\", header=True)"
   ]
  },
  {
   "cell_type": "code",
   "execution_count": null,
   "metadata": {
    "collapsed": false,
    "deletable": true,
    "editable": true
   },
   "outputs": [
    {
     "data": {
      "text/plain": [
       "[('uuid', 'string'),\n",
       " ('document_id', 'string'),\n",
       " ('timestamp', 'string'),\n",
       " ('platform', 'string'),\n",
       " ('geo_location', 'string'),\n",
       " ('traffic_source', 'string')]"
      ]
     },
     "execution_count": 13,
     "metadata": {},
     "output_type": "execute_result"
    }
   ],
   "source": [
    "pvdf.dtypes"
   ]
  },
  {
   "cell_type": "code",
   "execution_count": null,
   "metadata": {
    "collapsed": false,
    "deletable": true,
    "editable": true
   },
   "outputs": [
    {
     "name": "stdout",
     "output_type": "stream",
     "text": [
      "+--------------+-----------+---------+--------+------------+--------------+\n",
      "|          uuid|document_id|timestamp|platform|geo_location|traffic_source|\n",
      "+--------------+-----------+---------+--------+------------+--------------+\n",
      "|1fd5f051fba643|        120| 31905835|       1|          RS|             2|\n",
      "|8557aa9004be3b|        120| 32053104|       1|       VN>44|             2|\n",
      "|c351b277a358f0|        120| 54013023|       1|       KR>12|             1|\n",
      "|8205775c5387f9|        120| 44196592|       1|       IN>16|             2|\n",
      "|9cb0ccd8458371|        120| 65817371|       1|   US>CA>807|             2|\n",
      "+--------------+-----------+---------+--------+------------+--------------+\n",
      "only showing top 5 rows\n",
      "\n"
     ]
    }
   ],
   "source": [
    "pvdf.show(5)"
   ]
  },
  {
   "cell_type": "code",
   "execution_count": null,
   "metadata": {
    "collapsed": false,
    "deletable": true,
    "editable": true
   },
   "outputs": [
    {
     "name": "stdout",
     "output_type": "stream",
     "text": [
      "CPU times: user 76 ms, sys: 20 ms, total: 96 ms\n",
      "Wall time: 9min 16s\n"
     ]
    },
    {
     "data": {
      "text/plain": [
       "2034275448"
      ]
     },
     "execution_count": 15,
     "metadata": {},
     "output_type": "execute_result"
    }
   ],
   "source": [
    "%%time\n",
    "pvdf.count()"
   ]
  },
  {
   "cell_type": "markdown",
   "metadata": {
    "deletable": true,
    "editable": true
   },
   "source": [
    "# Parquet is faster than CSV"
   ]
  },
  {
   "cell_type": "markdown",
   "metadata": {
    "deletable": true,
    "editable": true
   },
   "source": [
    "http://events.linuxfoundation.org/sites/events/files/slides/ApacheCon%20BigData%20Europe%202016%20-%20Parquet%20in%20Practice%20%26%20Detail_0.pdf"
   ]
  },
  {
   "cell_type": "code",
   "execution_count": null,
   "metadata": {
    "collapsed": false,
    "deletable": true,
    "editable": true
   },
   "outputs": [],
   "source": [
    "%%time\n",
    "pvdf.write.parquet(\"/task1/page_views.parquet\")"
   ]
  },
  {
   "cell_type": "code",
   "execution_count": 31,
   "metadata": {
    "collapsed": false,
    "deletable": true,
    "editable": true
   },
   "outputs": [
    {
     "name": "stdout",
     "output_type": "stream",
     "text": [
      "47.3 G  /task1/page_views.parquet\r\n"
     ]
    }
   ],
   "source": [
    "! hadoop fs -du -s -h /task1/page_views.parquet"
   ]
  },
  {
   "cell_type": "code",
   "execution_count": 33,
   "metadata": {
    "collapsed": false,
    "deletable": true,
    "editable": true
   },
   "outputs": [],
   "source": [
    "pvdf2 = ss.read.parquet(\"/task1/page_views.parquet\")"
   ]
  },
  {
   "cell_type": "code",
   "execution_count": 35,
   "metadata": {
    "collapsed": false,
    "deletable": true,
    "editable": true
   },
   "outputs": [
    {
     "data": {
      "text/plain": [
       "[Row(geo_location=u'US>NY', count=420207),\n",
       " Row(geo_location=u'US>MS>673', count=849299),\n",
       " Row(geo_location=u'ES>07', count=139257),\n",
       " Row(geo_location=u'CO>02', count=274301),\n",
       " Row(geo_location=u'DZ', count=141209)]"
      ]
     },
     "metadata": {},
     "output_type": "display_data"
    },
    {
     "name": "stdout",
     "output_type": "stream",
     "text": [
      "CPU times: user 16 ms, sys: 0 ns, total: 16 ms\n",
      "Wall time: 22.2 s\n"
     ]
    }
   ],
   "source": [
    "%%time\n",
    "from IPython.display import display\n",
    "boo = pvdf2.groupBy(\"geo_location\").count().collect()\n",
    "display(boo[:5])"
   ]
  },
  {
   "cell_type": "code",
   "execution_count": 36,
   "metadata": {
    "collapsed": false,
    "deletable": true,
    "editable": true
   },
   "outputs": [
    {
     "data": {
      "text/plain": [
       "[Row(geo_location=u'US>MS>673', count=849299),\n",
       " Row(geo_location=u'CO>02', count=274301),\n",
       " Row(geo_location=u'DZ', count=141209),\n",
       " Row(geo_location=u'US>MT>756', count=676540),\n",
       " Row(geo_location=u'IL>01', count=21174)]"
      ]
     },
     "metadata": {},
     "output_type": "display_data"
    },
    {
     "name": "stdout",
     "output_type": "stream",
     "text": [
      "CPU times: user 96 ms, sys: 20 ms, total: 116 ms\n",
      "Wall time: 10min 34s\n"
     ]
    }
   ],
   "source": [
    "%%time\n",
    "boo = pvdf.groupBy(\"geo_location\").count().collect()\n",
    "display(boo[:5])"
   ]
  },
  {
   "cell_type": "markdown",
   "metadata": {
    "deletable": true,
    "editable": true
   },
   "source": [
    "# Convert all to Parquet"
   ]
  },
  {
   "cell_type": "code",
   "execution_count": 58,
   "metadata": {
    "collapsed": false,
    "deletable": true,
    "editable": true
   },
   "outputs": [
    {
     "name": "stdout",
     "output_type": "stream",
     "text": [
      "clicks_test.parquet done\n",
      "clicks_train.parquet done\n",
      "documents_categories.parquet done\n",
      "documents_entities.parquet done\n",
      "documents_meta.parquet done\n",
      "documents_topics.parquet done\n",
      "events.parquet done\n",
      "page_views.parquet done\n",
      "page_views_sample.parquet done\n",
      "promoted_content.parquet done\n",
      "sample_submission.parquet done\n",
      "CPU times: user 96 ms, sys: 0 ns, total: 96 ms\n",
      "Wall time: 4min 37s\n"
     ]
    }
   ],
   "source": [
    "%%time\n",
    "def convert_all_to_parquet():\n",
    "    task_dir = \"/task1/\"\n",
    "    all_files = hdfs_client.list(task_dir)\n",
    "    for fn in all_files:\n",
    "        if fn.endswith(\".csv\"):\n",
    "            fn_after = fn.replace(\".csv\", \".parquet\")\n",
    "            path_before = task_dir + fn\n",
    "            path_after = task_dir + fn_after\n",
    "            if fn_after not in all_files:\n",
    "                # generate parquet\n",
    "                df = ss.read.csv(path_before, header=True)\n",
    "                df.write.parquet(path_after)\n",
    "            # remove csv, we have parquet now\n",
    "            hdfs_client.delete(path_before)\n",
    "            print fn_after, \"done\"\n",
    "\n",
    "convert_all_to_parquet()"
   ]
  },
  {
   "cell_type": "code",
   "execution_count": 60,
   "metadata": {
    "collapsed": false,
    "deletable": true,
    "editable": true
   },
   "outputs": [
    {
     "name": "stdout",
     "output_type": "stream",
     "text": [
      "133.2 M  /task1/clicks_test.parquet\n",
      "367.5 M  /task1/clicks_train.parquet\n",
      "36.5 M  /task1/documents_categories.parquet\n",
      "184.0 M  /task1/documents_entities.parquet\n",
      "21.2 M  /task1/documents_meta.parquet\n",
      "183.3 M  /task1/documents_topics.parquet\n",
      "669.3 M  /task1/events.parquet\n",
      "47.3 G  /task1/page_views.parquet\n",
      "236.9 M  /task1/page_views_sample.parquet\n",
      "5.0 M  /task1/promoted_content.parquet\n",
      "184.2 M  /task1/sample_submission.parquet\n"
     ]
    }
   ],
   "source": [
    "! hadoop fs -du -s -h /task1/*"
   ]
  },
  {
   "cell_type": "markdown",
   "metadata": {
    "deletable": true,
    "editable": true
   },
   "source": [
    "# Preview all files"
   ]
  },
  {
   "cell_type": "code",
   "execution_count": 65,
   "metadata": {
    "collapsed": false,
    "deletable": true,
    "editable": true,
    "scrolled": false
   },
   "outputs": [
    {
     "name": "stdout",
     "output_type": "stream",
     "text": [
      "############### /task1/clicks_test.parquet ###############\n",
      "+----------+------+\n",
      "|display_id| ad_id|\n",
      "+----------+------+\n",
      "|  17805143|288388|\n",
      "+----------+------+\n",
      "only showing top 1 row\n",
      "\n",
      "############### /task1/clicks_train.parquet ###############\n",
      "+----------+-----+-------+\n",
      "|display_id|ad_id|clicked|\n",
      "+----------+-----+-------+\n",
      "|         1|42337|      0|\n",
      "+----------+-----+-------+\n",
      "only showing top 1 row\n",
      "\n",
      "############### /task1/documents_categories.parquet ###############\n",
      "+-----------+-----------+----------------+\n",
      "|document_id|category_id|confidence_level|\n",
      "+-----------+-----------+----------------+\n",
      "|    1544588|       1513|     0.263546236|\n",
      "+-----------+-----------+----------------+\n",
      "only showing top 1 row\n",
      "\n",
      "############### /task1/documents_entities.parquet ###############\n",
      "+-----------+--------------------+-----------------+\n",
      "|document_id|           entity_id| confidence_level|\n",
      "+-----------+--------------------+-----------------+\n",
      "|    1539011|e01ed0c4a3e8f8f35...|0.327269624728567|\n",
      "+-----------+--------------------+-----------------+\n",
      "only showing top 1 row\n",
      "\n",
      "############### /task1/documents_meta.parquet ###############\n",
      "+-----------+---------+------------+-------------------+\n",
      "|document_id|source_id|publisher_id|       publish_time|\n",
      "+-----------+---------+------------+-------------------+\n",
      "|     325048|      822|         253|2013-02-27 00:00:00|\n",
      "+-----------+---------+------------+-------------------+\n",
      "only showing top 1 row\n",
      "\n",
      "############### /task1/documents_topics.parquet ###############\n",
      "+-----------+--------+------------------+\n",
      "|document_id|topic_id|  confidence_level|\n",
      "+-----------+--------+------------------+\n",
      "|     801028|     280|0.0148711250868194|\n",
      "+-----------+--------+------------------+\n",
      "only showing top 1 row\n",
      "\n",
      "############### /task1/events.parquet ###############\n",
      "+----------+--------------+-----------+---------+--------+------------+\n",
      "|display_id|          uuid|document_id|timestamp|platform|geo_location|\n",
      "+----------+--------------+-----------+---------+--------+------------+\n",
      "|         1|cb8c55702adb93|     379743|       61|       3|   US>SC>519|\n",
      "+----------+--------------+-----------+---------+--------+------------+\n",
      "only showing top 1 row\n",
      "\n",
      "############### /task1/page_views.parquet ###############\n",
      "+--------------+-----------+---------+--------+------------+--------------+\n",
      "|          uuid|document_id|timestamp|platform|geo_location|traffic_source|\n",
      "+--------------+-----------+---------+--------+------------+--------------+\n",
      "|68fb8eb72c49c4|    1201414| 63621328|       3|       GB>F8|             2|\n",
      "+--------------+-----------+---------+--------+------------+--------------+\n",
      "only showing top 1 row\n",
      "\n",
      "############### /task1/page_views_sample.parquet ###############\n",
      "+--------------+-----------+---------+--------+------------+--------------+\n",
      "|          uuid|document_id|timestamp|platform|geo_location|traffic_source|\n",
      "+--------------+-----------+---------+--------+------------+--------------+\n",
      "|7504d9623fdc7e|        234| 72194818|       1|   US>CA>825|             1|\n",
      "+--------------+-----------+---------+--------+------------+--------------+\n",
      "only showing top 1 row\n",
      "\n",
      "############### /task1/promoted_content.parquet ###############\n",
      "+-----+-----------+-----------+-------------+\n",
      "|ad_id|document_id|campaign_id|advertiser_id|\n",
      "+-----+-----------+-----------+-------------+\n",
      "|    1|       6614|          1|            7|\n",
      "+-----+-----------+-----------+-------------+\n",
      "only showing top 1 row\n",
      "\n",
      "############### /task1/sample_submission.parquet ###############\n",
      "+----------+--------------------+\n",
      "|display_id|               ad_id|\n",
      "+----------+--------------------+\n",
      "|  21960532|50582 190398 2293...|\n",
      "+----------+--------------------+\n",
      "only showing top 1 row\n",
      "\n",
      "CPU times: user 28 ms, sys: 4 ms, total: 32 ms\n",
      "Wall time: 2.47 s\n"
     ]
    }
   ],
   "source": [
    "%%time\n",
    "def preview_all_files():\n",
    "    task_dir = \"/task1/\"\n",
    "    all_files = hdfs_client.list(task_dir)\n",
    "    for fn in all_files:\n",
    "        df = ss.read.parquet(task_dir + fn)\n",
    "        print \"#\" * 15 + \" {0} \".format(task_dir + fn) + \"#\" * 15\n",
    "        df.show(1)\n",
    "        \n",
    "preview_all_files()"
   ]
  },
  {
   "cell_type": "markdown",
   "metadata": {
    "deletable": true,
    "editable": true
   },
   "source": [
    "# Register all tables to be usable in SQL queries"
   ]
  },
  {
   "cell_type": "code",
   "execution_count": 5,
   "metadata": {
    "collapsed": false,
    "deletable": true,
    "editable": true
   },
   "outputs": [
    {
     "name": "stdout",
     "output_type": "stream",
     "text": [
      "clicks_test done\n",
      "clicks_train done\n",
      "documents_categories done\n",
      "documents_categories2 done\n",
      "documents_entities done\n",
      "documents_meta done\n",
      "documents_topics done\n",
      "events done\n",
      "events_test done\n",
      "events_train done\n",
      "joined_events done\n",
      "page_views done\n",
      "page_views_sample done\n",
      "promoted_content done\n",
      "sample_submission done\n",
      "CPU times: user 36 ms, sys: 8 ms, total: 44 ms\n",
      "Wall time: 18.2 s\n"
     ]
    }
   ],
   "source": [
    "%%time\n",
    "def register_all_tables():\n",
    "    task_dir = \"/task1/\"\n",
    "    all_files = hdfs_client.list(task_dir)\n",
    "    for fn in all_files:\n",
    "        if fn.endswith(\".parquet\"):\n",
    "            table_name = fn.replace(\".parquet\", \"\")\n",
    "            df = ss.read.parquet(task_dir + fn)\n",
    "            df.registerTempTable(table_name)\n",
    "            print table_name, \"done\"\n",
    "        \n",
    "register_all_tables()"
   ]
  },
  {
   "cell_type": "markdown",
   "metadata": {
    "deletable": true,
    "editable": true
   },
   "source": [
    "# SQL query example"
   ]
  },
  {
   "cell_type": "code",
   "execution_count": 72,
   "metadata": {
    "collapsed": false,
    "deletable": true,
    "editable": true
   },
   "outputs": [
    {
     "name": "stdout",
     "output_type": "stream",
     "text": [
      "CPU times: user 4 ms, sys: 0 ns, total: 4 ms\n",
      "Wall time: 16.1 s\n"
     ]
    },
    {
     "data": {
      "text/plain": [
       "[Row(users_count=19794967)]"
      ]
     },
     "execution_count": 72,
     "metadata": {},
     "output_type": "execute_result"
    }
   ],
   "source": [
    "%%time\n",
    "ss.sql(\"\"\"\n",
    "select count(distinct(uuid)) as users_count\n",
    "from events\n",
    "\"\"\").collect()"
   ]
  },
  {
   "cell_type": "markdown",
   "metadata": {
    "collapsed": true,
    "deletable": true,
    "editable": true
   },
   "source": [
    "# 1. Baseline"
   ]
  },
  {
   "cell_type": "markdown",
   "metadata": {
    "deletable": true,
    "editable": true
   },
   "source": [
    "Simple model using the following features:\n",
    "- **clicked**\n",
    "- geo_location features (country, state, dma)\n",
    "- day_of_week (from timestamp, use *date.isoweekday()*)\n",
    "- ad_id\n",
    "- ad_document_id\n",
    "- campaign_id\n",
    "- advertiser_id\n",
    "- display_document_id\n",
    "- platform"
   ]
  },
  {
   "cell_type": "markdown",
   "metadata": {
    "deletable": true,
    "editable": true
   },
   "source": [
    "## Calculate features for VW"
   ]
  },
  {
   "cell_type": "markdown",
   "metadata": {
    "deletable": true,
    "editable": true
   },
   "source": [
    "- Use DataFrame API to join tables (functions in SQL queries: https://spark.apache.org/docs/2.1.0/api/java/org/apache/spark/sql/functions.html)\n",
    "- Use Python API to calculate features and save them as text for VW (*saveAsTextFile()*)\n",
    "- Hash features in Spark (24 bits, use *sklearn.utils.murmurhash.murmurhash3_32*)\n",
    "- Split dataset in Spark into 90% train, 10% test **by display_id**, save the split for further use"
   ]
  },
  {
   "cell_type": "code",
   "execution_count": 5,
   "metadata": {
    "collapsed": true,
    "deletable": true,
    "editable": true
   },
   "outputs": [],
   "source": [
    "from sklearn.utils.murmurhash import murmurhash3_32\n",
    "def hasher(x, bits):\n",
    "    return murmurhash3_32(x) % 2**bits"
   ]
  },
  {
   "cell_type": "markdown",
   "metadata": {
    "deletable": true,
    "editable": true
   },
   "source": [
    "## Copy data from HDFS to cluster1 machine"
   ]
  },
  {
   "cell_type": "markdown",
   "metadata": {
    "deletable": true,
    "editable": true
   },
   "source": [
    "We will run vowpal wabbit **locally**, need to copy data from HDFS"
   ]
  },
  {
   "cell_type": "code",
   "execution_count": 2,
   "metadata": {
    "collapsed": true,
    "deletable": true,
    "editable": true
   },
   "outputs": [],
   "source": [
    "import os\n",
    "import shutil\n",
    "\n",
    "def copy_text_to_local(hdfs_path, local_path):\n",
    "    if os.path.exists(local_path):\n",
    "        shutil.rmtree(local_path)\n",
    "    os.mkdir(local_path)\n",
    "    os.system('hadoop fs -copyToLocal \"{0}/*\" {1}'.format(hdfs_path, local_path))\n",
    "    os.system('cat {0}/part-* > {1}'.format(local_path, local_path + \"/merged.txt\"))\n",
    "    print \"done\""
   ]
  },
  {
   "cell_type": "code",
   "execution_count": null,
   "metadata": {
    "collapsed": true,
    "deletable": true,
    "editable": true
   },
   "outputs": [],
   "source": [
    "%%time\n",
    "copy_text_to_local(\"/task1/train.txt\", \"/data/train.txt\")"
   ]
  },
  {
   "cell_type": "code",
   "execution_count": 3,
   "metadata": {
    "collapsed": false,
    "deletable": true,
    "editable": true
   },
   "outputs": [
    {
     "name": "stdout",
     "output_type": "stream",
     "text": [
      "-rw-rw-r-- 1 ubuntu ubuntu 9.2G Apr 23 11:31 /data/train.txt/merged.txt\r\n"
     ]
    }
   ],
   "source": [
    "! ls -lh /data/train.txt/merged.txt"
   ]
  },
  {
   "cell_type": "code",
   "execution_count": null,
   "metadata": {
    "collapsed": true,
    "deletable": true,
    "editable": true
   },
   "outputs": [],
   "source": [
    "%%time\n",
    "copy_text_to_local(\"/task1/test.txt\", \"/data/test.txt\")"
   ]
  },
  {
   "cell_type": "code",
   "execution_count": 4,
   "metadata": {
    "collapsed": false,
    "deletable": true,
    "editable": true
   },
   "outputs": [
    {
     "name": "stdout",
     "output_type": "stream",
     "text": [
      "-rw-rw-r-- 1 ubuntu ubuntu 1.1G Apr 23 11:32 /data/test.txt/merged.txt\r\n"
     ]
    }
   ],
   "source": [
    "! ls -lh /data/test.txt/merged.txt"
   ]
  },
  {
   "cell_type": "markdown",
   "metadata": {
    "deletable": true,
    "editable": true
   },
   "source": [
    "## Install VW"
   ]
  },
  {
   "cell_type": "code",
   "execution_count": null,
   "metadata": {
    "collapsed": true,
    "deletable": true,
    "editable": true
   },
   "outputs": [],
   "source": [
    "! sudo apt-get install libboost-program-options-dev zlib1g-dev libboost-python-dev libtool m4 automake -y"
   ]
  },
  {
   "cell_type": "code",
   "execution_count": null,
   "metadata": {
    "collapsed": true,
    "deletable": true,
    "editable": true
   },
   "outputs": [],
   "source": [
    "! wget https://github.com/JohnLangford/vowpal_wabbit/archive/8.2.0.tar.gz"
   ]
  },
  {
   "cell_type": "code",
   "execution_count": null,
   "metadata": {
    "collapsed": true,
    "deletable": true,
    "editable": true
   },
   "outputs": [],
   "source": [
    "! tar -xzf 8.2.0.tar.gz"
   ]
  },
  {
   "cell_type": "markdown",
   "metadata": {
    "deletable": true,
    "editable": true
   },
   "source": [
    "cd vowpal_wabbit-8.2.0\n",
    "\n",
    "./autogen.sh\n",
    "\n",
    "make -j4\n",
    "\n",
    "make test -j4\n",
    "\n",
    "sudo make install"
   ]
  },
  {
   "cell_type": "markdown",
   "metadata": {
    "deletable": true,
    "editable": true
   },
   "source": [
    "## Train VW"
   ]
  },
  {
   "cell_type": "markdown",
   "metadata": {
    "deletable": true,
    "editable": true
   },
   "source": [
    "https://github.com/JohnLangford/vowpal_wabbit/wiki/Command-line-arguments"
   ]
  },
  {
   "cell_type": "code",
   "execution_count": 10,
   "metadata": {
    "collapsed": false,
    "deletable": true,
    "editable": true
   },
   "outputs": [
    {
     "name": "stdout",
     "output_type": "stream",
     "text": [
      "-1 |f 5611969:1.0 11418299:1.0 11602085:1.0 15617356:1.0 15750989:1.0 786735:1.0 3083696:1.0 4204498:1.0 5728439:1.0 1376507:1.0\r\n",
      "1 |f 1748258:1.0 1376507:1.0 11602085:1.0 14125547:1.0 15617356:1.0 16621393:1.0 4204498:1.0 9609462:1.0 5728439:1.0 11418299:1.0\r\n"
     ]
    }
   ],
   "source": [
    "! head -n2 /data/train.txt/merged.txt"
   ]
  },
  {
   "cell_type": "code",
   "execution_count": 12,
   "metadata": {
    "collapsed": false,
    "deletable": true,
    "editable": true
   },
   "outputs": [
    {
     "name": "stdout",
     "output_type": "stream",
     "text": [
      "final_regressor = /data/model\n",
      "Enabling FTRL based optimization\n",
      "Algorithm used: Proximal-FTRL\n",
      "ftrl_alpha = 0.005\n",
      "ftrl_beta = 0.1\n",
      "Num weight bits = 24\n",
      "learning rate = 0.5\n",
      "initial_t = 0\n",
      "power_t = 0.5\n",
      "creating cache_file = /data/train.txt/merged.txt.cache\n",
      "Reading datafile = /data/train.txt/merged.txt\n",
      "num sources = 1\n",
      "average  since         example        example  current  current  current\n",
      "loss     last          counter         weight    label  predict features\n",
      "0.459597 0.459597      8000000      8000000.0  -1.0000  -1.4509       11\n",
      "0.454955 0.450313     16000000     16000000.0  -1.0000   0.2849       11\n",
      "0.452520 0.447649     24000000     24000000.0  -1.0000  -1.0289       11\n",
      "0.450893 0.446015     32000000     32000000.0  -1.0000  -1.5837       11\n",
      "0.449772 0.445288     40000000     40000000.0  -1.0000  -1.2465       11\n",
      "0.448888 0.444469     48000000     48000000.0  -1.0000  -1.6476       11\n",
      "0.448170 0.443861     56000000     56000000.0  -1.0000  -1.0652        9\n",
      "0.447529 0.443043     64000000     64000000.0  -1.0000  -1.6281       11\n",
      "0.447042 0.443142     72000000     72000000.0  -1.0000  -0.9352       11\n",
      "\n",
      "finished run\n",
      "number of examples = 78435295\n",
      "weighted example sum = 78435295.000000\n",
      "weighted label sum = -48058469.000000\n",
      "average loss = 0.446692\n",
      "best constant = -1.426513\n",
      "best constant's loss = 0.491462\n",
      "total feature number = 839234743\n",
      "CPU times: user 2.56 s, sys: 984 ms, total: 3.54 s\n",
      "Wall time: 2min 57s\n"
     ]
    }
   ],
   "source": [
    "%%time\n",
    "! LD_LIBRARY_PATH=/usr/local/lib vw -d /data/train.txt/merged.txt -b 24 -c -k --ftrl --passes 1 -f /data/model --holdout_off --loss_function logistic --random_seed 42 --progress 8000000 "
   ]
  },
  {
   "cell_type": "markdown",
   "metadata": {
    "deletable": true,
    "editable": true
   },
   "source": [
    "## Check VW test performance"
   ]
  },
  {
   "cell_type": "code",
   "execution_count": 13,
   "metadata": {
    "collapsed": false,
    "deletable": true,
    "editable": true
   },
   "outputs": [
    {
     "name": "stdout",
     "output_type": "stream",
     "text": [
      "only testing\n",
      "predictions = /data/test_predictions.txt\n",
      "Num weight bits = 24\n",
      "learning rate = 0.5\n",
      "initial_t = 0\n",
      "power_t = 0.5\n",
      "using no cache\n",
      "Reading datafile = /data/test.txt/merged.txt\n",
      "num sources = 1\n",
      "average  since         example        example  current  current  current\n",
      "loss     last          counter         weight    label  predict features\n",
      "1.833906 1.833906      1000000      1000000.0  -1.0000   0.1692       11\n",
      "1.834238 1.834571      2000000      2000000.0  -1.0000   0.1054       11\n",
      "1.834516 1.835071      3000000      3000000.0  -1.0000   0.1948       11\n",
      "1.834247 1.833440      4000000      4000000.0  -1.0000   0.0511       11\n",
      "1.833725 1.831640      5000000      5000000.0  -1.0000   0.4039       11\n",
      "1.834064 1.835758      6000000      6000000.0  -1.0000   0.3104       10\n",
      "1.833605 1.830850      7000000      7000000.0   1.0000   0.2100       11\n",
      "1.833540 1.833085      8000000      8000000.0   1.0000   0.2825       11\n",
      "\n",
      "finished run\n",
      "number of examples per pass = 8706436\n",
      "passes used = 1\n",
      "weighted example sum = 8706436.000000\n",
      "weighted label sum = -5334076.000000\n",
      "average loss = 1.833502\n",
      "best constant = -0.612659\n",
      "best constant's loss = 0.624649\n",
      "total feature number = 93153050\n",
      "CPU times: user 456 ms, sys: 148 ms, total: 604 ms\n",
      "Wall time: 33.9 s\n"
     ]
    }
   ],
   "source": [
    "%%time\n",
    "! LD_LIBRARY_PATH=/usr/local/lib vw -d /data/test.txt/merged.txt -i /data/model -t -k -p /data/test_predictions.txt --progress 1000000 --link=logistic"
   ]
  },
  {
   "cell_type": "code",
   "execution_count": 15,
   "metadata": {
    "collapsed": false,
    "deletable": true,
    "editable": true
   },
   "outputs": [],
   "source": [
    "import numpy as np\n",
    "\n",
    "def read_vw_predictions(p):\n",
    "    y_pred = []\n",
    "    with open(p, \"r\") as f:\n",
    "        for line in f:\n",
    "            y_pred.append(float(line.split()[0]))\n",
    "    return np.array(y_pred)\n",
    "\n",
    "y_pred = read_vw_predictions(\"/data/test_predictions.txt\")"
   ]
  },
  {
   "cell_type": "code",
   "execution_count": 16,
   "metadata": {
    "collapsed": true,
    "deletable": true,
    "editable": true
   },
   "outputs": [],
   "source": [
    "def get_vw_y_true(p):\n",
    "    y_true = []\n",
    "    with open(p, \"r\") as f:\n",
    "        for line in f:\n",
    "            y_true.append(float(line.partition(\" \")[0]))\n",
    "    return np.array(y_true)\n",
    "\n",
    "y_true = get_vw_y_true(\"/data/test.txt/merged.txt\")"
   ]
  },
  {
   "cell_type": "code",
   "execution_count": 17,
   "metadata": {
    "collapsed": true,
    "deletable": true,
    "editable": true
   },
   "outputs": [],
   "source": [
    "from sklearn.metrics import log_loss, roc_auc_score"
   ]
  },
  {
   "cell_type": "code",
   "execution_count": 18,
   "metadata": {
    "collapsed": false,
    "deletable": true,
    "editable": true
   },
   "outputs": [
    {
     "data": {
      "text/plain": [
       "0.44243740198494763"
      ]
     },
     "execution_count": 18,
     "metadata": {},
     "output_type": "execute_result"
    }
   ],
   "source": [
    "log_loss(y_true, y_pred)"
   ]
  },
  {
   "cell_type": "code",
   "execution_count": 19,
   "metadata": {
    "collapsed": false,
    "deletable": true,
    "editable": true
   },
   "outputs": [
    {
     "data": {
      "text/plain": [
       "0.72043228749609667"
      ]
     },
     "execution_count": 19,
     "metadata": {},
     "output_type": "execute_result"
    }
   ],
   "source": [
    "roc_auc_score(y_true, y_pred)"
   ]
  },
  {
   "cell_type": "markdown",
   "metadata": {
    "deletable": true,
    "editable": true
   },
   "source": [
    "## Make submission to Kaggle"
   ]
  },
  {
   "cell_type": "code",
   "execution_count": null,
   "metadata": {
    "collapsed": true,
    "deletable": true,
    "editable": true
   },
   "outputs": [],
   "source": []
  },
  {
   "cell_type": "markdown",
   "metadata": {
    "deletable": true,
    "editable": true
   },
   "source": [
    "# 2. Better model"
   ]
  },
  {
   "cell_type": "markdown",
   "metadata": {
    "deletable": true,
    "editable": true
   },
   "source": [
    "This time let's make a personalized recommender using:\n",
    "- page views information\n",
    "- document properties\n",
    "\n",
    "Ideas for features:\n",
    "- uuid topic, entity, publisher, ... preferences\n",
    "- document similarities\n",
    "- ..."
   ]
  },
  {
   "cell_type": "code",
   "execution_count": null,
   "metadata": {
    "collapsed": true,
    "deletable": true,
    "editable": true
   },
   "outputs": [],
   "source": []
  },
  {
   "cell_type": "markdown",
   "metadata": {
    "deletable": true,
    "editable": true
   },
   "source": [
    "## More SQL examples"
   ]
  },
  {
   "cell_type": "code",
   "execution_count": 10,
   "metadata": {
    "collapsed": false,
    "deletable": true,
    "editable": true
   },
   "outputs": [
    {
     "name": "stdout",
     "output_type": "stream",
     "text": [
      "+----------+--------------+-----------+---------+--------+------------+\n",
      "|display_id|          uuid|document_id|timestamp|platform|geo_location|\n",
      "+----------+--------------+-----------+---------+--------+------------+\n",
      "|         1|cb8c55702adb93|     379743|       61|       3|   US>SC>519|\n",
      "|         2|79a85fa78311b9|    1794259|       81|       2|   US>CA>807|\n",
      "|         3|822932ce3d8757|    1179111|      182|       2|   US>MI>505|\n",
      "+----------+--------------+-----------+---------+--------+------------+\n",
      "only showing top 3 rows\n",
      "\n"
     ]
    }
   ],
   "source": [
    "# we start with a DataFrame\n",
    "events_df = ss.sql(\"select * from events\")\n",
    "events_df.show(3)"
   ]
  },
  {
   "cell_type": "code",
   "execution_count": 23,
   "metadata": {
    "collapsed": false,
    "deletable": true,
    "editable": true
   },
   "outputs": [
    {
     "data": {
      "text/plain": [
       "[Row(display_id=u'1', uuid=u'cb8c55702adb93', document_id=u'379743', timestamp=u'61', platform=u'3', geo_location=u'US>SC>519'),\n",
       " Row(display_id=u'2', uuid=u'79a85fa78311b9', document_id=u'1794259', timestamp=u'81', platform=u'2', geo_location=u'US>CA>807'),\n",
       " Row(display_id=u'3', uuid=u'822932ce3d8757', document_id=u'1179111', timestamp=u'182', platform=u'2', geo_location=u'US>MI>505')]"
      ]
     },
     "execution_count": 23,
     "metadata": {},
     "output_type": "execute_result"
    }
   ],
   "source": [
    "# we can make RDD of Rows with *.rdd\n",
    "from pyspark.sql import Row\n",
    "events_df.rdd.take(3)"
   ]
  },
  {
   "cell_type": "code",
   "execution_count": 30,
   "metadata": {
    "collapsed": false,
    "deletable": true,
    "editable": true
   },
   "outputs": [
    {
     "data": {
      "text/plain": [
       "[Row(bar=u'cb8c55702adb93', foo=[u'US', u'SC', u'519']),\n",
       " Row(bar=u'79a85fa78311b9', foo=[u'US', u'CA', u'807']),\n",
       " Row(bar=u'822932ce3d8757', foo=[u'US', u'MI', u'505'])]"
      ]
     },
     "execution_count": 30,
     "metadata": {},
     "output_type": "execute_result"
    }
   ],
   "source": [
    "# When it's RDD, we can use Python to create new RDD of Rows\n",
    "(\n",
    "    events_df.rdd\n",
    "    .map(lambda x: Row(foo=x.geo_location.split(\">\"), bar=x.uuid))\n",
    ").take(3)"
   ]
  },
  {
   "cell_type": "code",
   "execution_count": 31,
   "metadata": {
    "collapsed": false,
    "deletable": true,
    "editable": true
   },
   "outputs": [
    {
     "name": "stdout",
     "output_type": "stream",
     "text": [
      "+--------------+-------------+\n",
      "|           bar|          foo|\n",
      "+--------------+-------------+\n",
      "|cb8c55702adb93|[US, SC, 519]|\n",
      "|79a85fa78311b9|[US, CA, 807]|\n",
      "|822932ce3d8757|[US, MI, 505]|\n",
      "+--------------+-------------+\n",
      "only showing top 3 rows\n",
      "\n"
     ]
    }
   ],
   "source": [
    "# we can convert it back to DataFrame if it's still a table that can be converted to Java types\n",
    "ss.createDataFrame(\n",
    "    events_df.rdd\n",
    "    .map(lambda x: Row(foo=x.geo_location.split(\">\"), bar=x.uuid))\n",
    ").show(3)"
   ]
  },
  {
   "cell_type": "code",
   "execution_count": 36,
   "metadata": {
    "collapsed": false,
    "deletable": true,
    "editable": true
   },
   "outputs": [
    {
     "name": "stdout",
     "output_type": "stream",
     "text": [
      "CPU times: user 36 ms, sys: 8 ms, total: 44 ms\n",
      "Wall time: 3min 4s\n"
     ]
    }
   ],
   "source": [
    "%%time\n",
    "# we can save it to HDFS as parquet (if it's a DataFrame)\n",
    "ss.createDataFrame(\n",
    "    events_df.rdd\n",
    "    .map(lambda x: Row(foo=x.geo_location.split(\">\") if x.geo_location else [], bar=x.uuid))\n",
    ").write.mode(\"overwrite\").parquet(\"/task1/example1\")"
   ]
  },
  {
   "cell_type": "code",
   "execution_count": 39,
   "metadata": {
    "collapsed": false,
    "deletable": true,
    "editable": true
   },
   "outputs": [
    {
     "name": "stdout",
     "output_type": "stream",
     "text": [
      "root\n",
      " |-- bar: string (nullable = true)\n",
      " |-- foo: array (nullable = true)\n",
      " |    |-- element: string (containsNull = true)\n",
      "\n",
      "+--------------+-------------+\n",
      "|           bar|          foo|\n",
      "+--------------+-------------+\n",
      "|cb8c55702adb93|[US, SC, 519]|\n",
      "|79a85fa78311b9|[US, CA, 807]|\n",
      "|822932ce3d8757|[US, MI, 505]|\n",
      "+--------------+-------------+\n",
      "only showing top 3 rows\n",
      "\n"
     ]
    }
   ],
   "source": [
    "ss.read.parquet(\"/task1/example1\").printSchema()\n",
    "ss.read.parquet(\"/task1/example1\").show(3)"
   ]
  },
  {
   "cell_type": "code",
   "execution_count": 41,
   "metadata": {
    "collapsed": false,
    "deletable": true,
    "editable": true
   },
   "outputs": [
    {
     "name": "stdout",
     "output_type": "stream",
     "text": [
      "CPU times: user 36 ms, sys: 0 ns, total: 36 ms\n",
      "Wall time: 2min 41s\n"
     ]
    }
   ],
   "source": [
    "%%time\n",
    "# or we can skip DataFrame API if we use Python functions (there will be no speed increase)\n",
    "(\n",
    "    events_df.rdd\n",
    "    .map(lambda x: Row(foo=x.geo_location.split(\">\") if x.geo_location else [], bar=x.uuid))\n",
    ").saveAsPickleFile(\"/task1/example2\")"
   ]
  },
  {
   "cell_type": "code",
   "execution_count": 43,
   "metadata": {
    "collapsed": false,
    "deletable": true,
    "editable": true
   },
   "outputs": [
    {
     "data": {
      "text/plain": [
       "[Row(bar=u'cb8c55702adb93', foo=[u'US', u'SC', u'519']),\n",
       " Row(bar=u'79a85fa78311b9', foo=[u'US', u'CA', u'807']),\n",
       " Row(bar=u'822932ce3d8757', foo=[u'US', u'MI', u'505'])]"
      ]
     },
     "execution_count": 43,
     "metadata": {},
     "output_type": "execute_result"
    }
   ],
   "source": [
    "sc.pickleFile(\"/task1/example2\").take(3)"
   ]
  },
  {
   "cell_type": "code",
   "execution_count": 49,
   "metadata": {
    "collapsed": false,
    "deletable": true,
    "editable": true
   },
   "outputs": [
    {
     "data": {
      "text/plain": [
       "[Row(x=array([u'US', u'SC', u'519'], \n",
       "      dtype='<U3')),\n",
       " Row(x=array([u'US', u'CA', u'807'], \n",
       "      dtype='<U3'))]"
      ]
     },
     "execution_count": 49,
     "metadata": {},
     "output_type": "execute_result"
    }
   ],
   "source": [
    "# sometimes we cannot make a DataFrame\n",
    "import numpy as np\n",
    "rdd = (\n",
    "    events_df.rdd\n",
    "    .map(lambda x: Row(x=np.array(x.geo_location.split(\">\") if x.geo_location else [])))\n",
    ")\n",
    "rdd.take(2)"
   ]
  },
  {
   "cell_type": "code",
   "execution_count": null,
   "metadata": {
    "collapsed": false,
    "deletable": true,
    "editable": true
   },
   "outputs": [],
   "source": [
    "# throws TypeError: not supported type: <type 'numpy.ndarray'>\n",
    "ss.createDataFrame(rdd)"
   ]
  },
  {
   "cell_type": "code",
   "execution_count": 52,
   "metadata": {
    "collapsed": false,
    "deletable": true,
    "editable": true
   },
   "outputs": [
    {
     "name": "stdout",
     "output_type": "stream",
     "text": [
      "CPU times: user 28 ms, sys: 8 ms, total: 36 ms\n",
      "Wall time: 3min 31s\n"
     ]
    }
   ],
   "source": [
    "%%time\n",
    "# but we can save as RDD in pickle file just fine\n",
    "rdd.saveAsPickleFile(\"/task1/example3\")"
   ]
  },
  {
   "cell_type": "markdown",
   "metadata": {
    "deletable": true,
    "editable": true
   },
   "source": [
    "Takeaways:\n",
    "- use DataFrames when you can (simple join's, select's, groupby's), it will be faster\n",
    "- use RDD and Python when you can't use DataFrame API\n",
    "- convert it back to DataFrame if needed\n",
    "- or save to pickles (can save almost any Python object as pickle)"
   ]
  },
  {
   "cell_type": "markdown",
   "metadata": {
    "deletable": true,
    "editable": true
   },
   "source": [
    "# Built-in SQL functions"
   ]
  },
  {
   "cell_type": "markdown",
   "metadata": {
    "deletable": true,
    "editable": true
   },
   "source": [
    "You can find more at https://spark.apache.org/docs/2.1.0/api/java/org/apache/spark/sql/functions.html"
   ]
  },
  {
   "cell_type": "code",
   "execution_count": 53,
   "metadata": {
    "collapsed": false,
    "deletable": true,
    "editable": true
   },
   "outputs": [
    {
     "name": "stdout",
     "output_type": "stream",
     "text": [
      "+-----------+--------------------+\n",
      "|document_id|          categories|\n",
      "+-----------+--------------------+\n",
      "|     100010|[[1513,0.79842798...|\n",
      "|    1000240|[[1505,0.92], [15...|\n",
      "|    1000280|[[1909,0.92], [19...|\n",
      "+-----------+--------------------+\n",
      "only showing top 3 rows\n",
      "\n"
     ]
    }
   ],
   "source": [
    "# sql version\n",
    "df = ss.sql(\"\"\"\n",
    "select\n",
    "    document_id,\n",
    "    collect_list(struct(category_id, confidence_level)) as categories\n",
    "from\n",
    "    documents_categories\n",
    "group by document_id\n",
    "\"\"\")\n",
    "df.show(3)"
   ]
  },
  {
   "cell_type": "code",
   "execution_count": 55,
   "metadata": {
    "collapsed": false,
    "deletable": true,
    "editable": true
   },
   "outputs": [
    {
     "name": "stdout",
     "output_type": "stream",
     "text": [
      "CPU times: user 4 ms, sys: 0 ns, total: 4 ms\n",
      "Wall time: 12.5 s\n"
     ]
    }
   ],
   "source": [
    "%%time\n",
    "df.write.mode(\"overwrite\").parquet(\"/task1/example4\")"
   ]
  },
  {
   "cell_type": "code",
   "execution_count": 57,
   "metadata": {
    "collapsed": false,
    "deletable": true,
    "editable": true
   },
   "outputs": [
    {
     "data": {
      "text/plain": [
       "[(u'2797448', [(u'1503', u'0.275620316'), (u'1210', u'0.020971111')]),\n",
       " (u'736183', [(u'1808', u'0.92'), (u'1513', u'0.07')]),\n",
       " (u'616955', [(u'1403', u'0.311842556'), (u'1210', u'0.023727151')])]"
      ]
     },
     "execution_count": 57,
     "metadata": {},
     "output_type": "execute_result"
    }
   ],
   "source": [
    "# or we can use RDD and Python if we are not aware of those SQL functions\n",
    "rdd = (\n",
    "    ss.sql(\"select * from documents_categories\")\n",
    "    .rdd\n",
    "    .map(lambda x: (x.document_id, (x.category_id, x.confidence_level)))\n",
    "    .groupByKey()\n",
    "    .map(lambda (k, vs): (k, list(vs)))\n",
    ")\n",
    "rdd.take(3)"
   ]
  },
  {
   "cell_type": "code",
   "execution_count": 58,
   "metadata": {
    "collapsed": false,
    "deletable": true,
    "editable": true
   },
   "outputs": [
    {
     "name": "stdout",
     "output_type": "stream",
     "text": [
      "CPU times: user 28 ms, sys: 12 ms, total: 40 ms\n",
      "Wall time: 3min 31s\n"
     ]
    }
   ],
   "source": [
    "%%time\n",
    "# it's much slower, but we can do almost everything in Python\n",
    "rdd.saveAsPickleFile(\"/task1/example5\")"
   ]
  },
  {
   "cell_type": "code",
   "execution_count": 63,
   "metadata": {
    "collapsed": false,
    "deletable": true,
    "editable": true
   },
   "outputs": [],
   "source": [
    "# but sometimes with Python we can do more\n",
    "rdd = (\n",
    "    ss.sql(\"select * from documents_categories\")\n",
    "    .rdd\n",
    "    .map(lambda x: (x.document_id, (x.category_id, x.confidence_level)))\n",
    "    .groupByKey()\n",
    "    .map(lambda (k, vs): Row(document_id=k, categories={a: float(b) for a, b in vs}))\n",
    ")"
   ]
  },
  {
   "cell_type": "code",
   "execution_count": 60,
   "metadata": {
    "collapsed": false,
    "deletable": true,
    "editable": true
   },
   "outputs": [
    {
     "name": "stdout",
     "output_type": "stream",
     "text": [
      "CPU times: user 32 ms, sys: 4 ms, total: 36 ms\n",
      "Wall time: 25.8 s\n"
     ]
    }
   ],
   "source": [
    "%%time\n",
    "# much faster thanks to conversion back to DataFrame (works for simple python collections in columns)\n",
    "ss.createDataFrame(rdd).write.parquet(\"/task1/example6\")"
   ]
  },
  {
   "cell_type": "code",
   "execution_count": 64,
   "metadata": {
    "collapsed": false,
    "deletable": true,
    "editable": true
   },
   "outputs": [
    {
     "name": "stdout",
     "output_type": "stream",
     "text": [
      "+--------------------+-----------+\n",
      "|          categories|document_id|\n",
      "+--------------------+-----------+\n",
      "|Map(1510 -> 0.887...|    1059269|\n",
      "|Map(1408 -> 0.92,...|    1050604|\n",
      "|Map(1903 -> 0.92,...|    1472688|\n",
      "+--------------------+-----------+\n",
      "only showing top 3 rows\n",
      "\n"
     ]
    }
   ],
   "source": [
    "ss.read.parquet(\"/task1/example6\").show(3)"
   ]
  },
  {
   "cell_type": "code",
   "execution_count": 65,
   "metadata": {
    "collapsed": true,
    "deletable": true,
    "editable": true
   },
   "outputs": [],
   "source": [
    "# now we can join this table with events for instance\n",
    "ss.read.parquet(\"/task1/example6\").registerTempTable(\"doc_categories_ready\")"
   ]
  },
  {
   "cell_type": "code",
   "execution_count": 68,
   "metadata": {
    "collapsed": false,
    "deletable": true,
    "editable": true
   },
   "outputs": [
    {
     "name": "stdout",
     "output_type": "stream",
     "text": [
      "+----------+--------------+-----------+---------+--------+------------+--------------------+\n",
      "|display_id|          uuid|document_id|timestamp|platform|geo_location|          categories|\n",
      "+----------+--------------+-----------+---------+--------+------------+--------------------+\n",
      "|  18242074|e703634e3dfa39|    1000240|536236046|       2|          NG|Map(1503 -> 0.07,...|\n",
      "|  18694427|5b023d28c0a9f3|    1000240|687121504|       2|   US>MA>521|Map(1503 -> 0.07,...|\n",
      "|   3436070|55e1db49ff4eef|    1000240|223783698|       1|   US>CA>803|Map(1503 -> 0.07,...|\n",
      "+----------+--------------+-----------+---------+--------+------------+--------------------+\n",
      "only showing top 3 rows\n",
      "\n"
     ]
    }
   ],
   "source": [
    "ss.sql(\"\"\"\n",
    "select \n",
    "    e.*, \n",
    "    dc.categories\n",
    "from \n",
    "    events as e\n",
    "    join doc_categories_ready as dc on dc.document_id = e.document_id\n",
    "\"\"\").show(3)"
   ]
  },
  {
   "cell_type": "code",
   "execution_count": null,
   "metadata": {
    "collapsed": true,
    "deletable": true,
    "editable": true
   },
   "outputs": [],
   "source": []
  }
 ],
 "metadata": {
  "kernelspec": {
   "display_name": "Python 2",
   "language": "python",
   "name": "python2"
  },
  "language_info": {
   "codemirror_mode": {
    "name": "ipython",
    "version": 2
   },
   "file_extension": ".py",
   "mimetype": "text/x-python",
   "name": "python",
   "nbconvert_exporter": "python",
   "pygments_lexer": "ipython2",
   "version": "2.7.6"
  }
 },
 "nbformat": 4,
 "nbformat_minor": 2
}
